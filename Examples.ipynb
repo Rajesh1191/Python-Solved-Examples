{
 "cells": [
  {
   "cell_type": "code",
   "execution_count": 1,
   "metadata": {},
   "outputs": [
    {
     "name": "stdout",
     "output_type": "stream",
     "text": [
      "Enter the number:\n",
      "23\n",
      "The number is odd\n"
     ]
    }
   ],
   "source": [
    "#WAP to find whether a number is odd or even?\n",
    "a=int(input(\"Enter the number:\\n\"))\n",
    "if a%2==0:\n",
    "    print(\"The number is even\")\n",
    "else:\n",
    "    print(\"The number is odd\")"
   ]
  },
  {
   "cell_type": "code",
   "execution_count": 2,
   "metadata": {},
   "outputs": [
    {
     "name": "stdout",
     "output_type": "stream",
     "text": [
      "Enter the number:\n",
      "-4\n",
      "The number is negative\n"
     ]
    }
   ],
   "source": [
    "c\n",
    "a=int(input(\"Enter the number:\\n\"))\n",
    "if a>0:\n",
    "    print(\"The number is positive\")\n",
    "else:\n",
    "    print(\"The number is negative\")"
   ]
  },
  {
   "cell_type": "code",
   "execution_count": 5,
   "metadata": {},
   "outputs": [
    {
     "name": "stdout",
     "output_type": "stream",
     "text": [
      "Enter the first number:\n",
      "123233\n",
      "Enter the second number:\n",
      "2332223\n",
      "Enter the third number:\n",
      "19383737\n",
      "The greatest among 3 numbers is : 19383737\n"
     ]
    }
   ],
   "source": [
    "#WAP to find the biggest of 3 numbers\n",
    "a=int(input(\"Enter the first number:\\n\"))\n",
    "b=int(input(\"Enter the second number:\\n\"))\n",
    "c=int(input(\"Enter the third number:\\n\"))\n",
    "if a>b and a>c:\n",
    "    print(\"The greatest among 3 numbers is :\",a)\n",
    "elif b>c:\n",
    "    print(\"The greatest among 3 numbers is :\",b)\n",
    "else:\n",
    "    print(\"The greatest among 3 numbers is :\",c)"
   ]
  },
  {
   "cell_type": "code",
   "execution_count": 8,
   "metadata": {},
   "outputs": [
    {
     "name": "stdout",
     "output_type": "stream",
     "text": [
      "Enter the first number:\n",
      "45\n",
      "Enter the second number:\n",
      "87\n",
      "The GCD of 2 number is  3\n"
     ]
    }
   ],
   "source": [
    "#WAP to find the GCD(We can use Euclid's algorithm to find the GCD)\n",
    "a=int(input(\"Enter the first number:\\n\"))\n",
    "b=int(input('Enter the second number:\\n'))\n",
    "while b!=0:\n",
    "    c=a%b\n",
    "    a=b\n",
    "    b=c\n",
    "print(\"The GCD of 2 number is \",a)"
   ]
  },
  {
   "cell_type": "code",
   "execution_count": 11,
   "metadata": {},
   "outputs": [
    {
     "name": "stdout",
     "output_type": "stream",
     "text": [
      "Enter the first number:\n",
      "45\n",
      "Enter the second number:\n",
      "15\n",
      "The HCf of 2 numbers is  15\n"
     ]
    }
   ],
   "source": [
    "#WAP to find the GCD of 2 numbers-Alternative Algorithm\n",
    "a=int(input(\"Enter the first number:\\n\"))\n",
    "b=int(input('Enter the second number:\\n'))\n",
    "if a>b:\n",
    "    smallest=b\n",
    "else:\n",
    "    smallest=a\n",
    "for i in range(1,smallest+1):\n",
    "    if a%i==0 and b%i==0:\n",
    "        HCF=i\n",
    "print(\"The HCf of 2 numbers is \",HCF)\n"
   ]
  },
  {
   "cell_type": "code",
   "execution_count": 12,
   "metadata": {},
   "outputs": [
    {
     "name": "stdout",
     "output_type": "stream",
     "text": [
      "0\n",
      "1\n",
      "1\n",
      "2\n",
      "3\n",
      "5\n",
      "8\n",
      "13\n",
      "21\n",
      "34\n",
      "55\n"
     ]
    }
   ],
   "source": [
    "#WAP to print the fibonacci series\n",
    "a=0;\n",
    "b=1;\n",
    "print(a)\n",
    "print(b)\n",
    "for i in range(9):\n",
    "    c=a+b;\n",
    "    print(c)\n",
    "    a=b;\n",
    "    b=c\n",
    "    "
   ]
  },
  {
   "cell_type": "code",
   "execution_count": 1,
   "metadata": {},
   "outputs": [
    {
     "name": "stdout",
     "output_type": "stream",
     "text": [
      "Enter the number:\n",
      "13\n",
      "The number is prime 12\n"
     ]
    }
   ],
   "source": [
    "#WAP to find whether a given number is prime or not:-\n",
    "a=int(input(\"Enter the number:\\n\"))\n",
    "for i in range(2,a):\n",
    "    if a%i==0:\n",
    "        print(\"The number is not prime\")\n",
    "        break\n",
    "else:\n",
    "    print(\"The number is prime\",i)\n",
    "\n",
    "    "
   ]
  },
  {
   "cell_type": "code",
   "execution_count": 23,
   "metadata": {},
   "outputs": [
    {
     "name": "stdout",
     "output_type": "stream",
     "text": [
      "Enter the number:\n",
      "331\n",
      "The number is prime\n"
     ]
    }
   ],
   "source": [
    "#WAP to find whether a given number is prime or not:-(Alternate method)\n",
    "a=int(input(\"Enter the number:\\n\"))\n",
    "isdivisible=False;\n",
    "for i in range(2,a):\n",
    "    if a%i==0:\n",
    "        isdivisible=True\n",
    "if isdivisible==False:\n",
    "    print(\"The number is prime\")\n",
    "else:\n",
    "    print(\"The number is not prime\")\n",
    "        \n",
    "        "
   ]
  },
  {
   "cell_type": "code",
   "execution_count": 29,
   "metadata": {},
   "outputs": [
    {
     "name": "stdout",
     "output_type": "stream",
     "text": [
      "Enter the first number:\n",
      "3\n",
      "Enter the second number:\n",
      "50\n",
      "The prime numbers between 3 and 50 are:\n",
      "3 5 7 11 13 17 19 23 29 31 37 41 43 47 "
     ]
    }
   ],
   "source": [
    "#WAP to find the numbers of prime number in between 3 and 50\n",
    "a=int(input(\"Enter the first number:\\n\"))\n",
    "b=int(input(\"Enter the second number:\\n\"))\n",
    "print(\"The prime numbers between {} and {} are:\".format(a,b))\n",
    "for i in range(a,b+1):\n",
    "    for j in range(2,i):\n",
    "        if i%j==0:\n",
    "            break\n",
    "    else:\n",
    "        print(i,end=\" \")\n",
    "     "
   ]
  },
  {
   "cell_type": "code",
   "execution_count": 30,
   "metadata": {},
   "outputs": [
    {
     "name": "stdout",
     "output_type": "stream",
     "text": [
      "The average score is 75.0\n"
     ]
    }
   ],
   "source": [
    "#WAP to find average score of the first subject of the class:-\n",
    "class_grades=[[85,91,89],[78,81,86],[62,75,77]]\n",
    "l=[]\n",
    "for i in class_grades:\n",
    "    l.append(i[0])\n",
    "sum=0;\n",
    "for i in l:\n",
    "    sum=sum+i\n",
    "average=sum/3\n",
    "print(\"The average score is\",average)\n",
    "    "
   ]
  },
  {
   "cell_type": "code",
   "execution_count": 33,
   "metadata": {},
   "outputs": [
    {
     "name": "stdout",
     "output_type": "stream",
     "text": [
      "The average of 0th student is:88.33333333333333\n",
      "The average of 1th student is:81.66666666666667\n",
      "The average of 2th student is:71.33333333333333\n"
     ]
    }
   ],
   "source": [
    "#WAP to find the average exam score for each student in the class:-\n",
    "class_grades=[[85,91,89],[78,81,86],[62,75,77]]\n",
    "k=0;\n",
    "for i in class_grades:\n",
    "    sum=0;\n",
    "    for j in i:\n",
    "        sum=sum+j\n",
    "    average=sum/3\n",
    "    print(\"The average of {}th student is:{}\".format(k,average))\n",
    "    k+=1\n",
    "    "
   ]
  },
  {
   "cell_type": "code",
   "execution_count": 8,
   "metadata": {
    "scrolled": true
   },
   "outputs": [
    {
     "name": "stdout",
     "output_type": "stream",
     "text": [
      "[[8, 10, 12], [14, 16, 18]]\n"
     ]
    }
   ],
   "source": [
    "#WAP to add two matrices and display the sum matrix using lists\n",
    "a=[[1,2,3],[4,5,6]]\n",
    "b=[[7,8,9],[10,11,12]]\n",
    "m=[[],[]]\n",
    "for i in range(0,2):\n",
    "    for k in range(0,3):\n",
    "        m[i].append(a[i][k]+b[i][k])\n",
    "print(m)\n",
    "\n",
    "            \n",
    "            "
   ]
  },
  {
   "cell_type": "code",
   "execution_count": 12,
   "metadata": {},
   "outputs": [
    {
     "name": "stdout",
     "output_type": "stream",
     "text": [
      "[2, 8, 45, 63, 96]\n"
     ]
    }
   ],
   "source": [
    "#WAP to sort the list elements using bubble sort technique\n",
    "l=[2,96,8,45,63]\n",
    "for i in range(len(l),0,-1):\n",
    "    for i in range(4):\n",
    "        if l[i]>l[i+1]:\n",
    "            c=l[i]\n",
    "            l[i]=l[i+1]\n",
    "            l[i+1]=c\n",
    "print(l)"
   ]
  },
  {
   "cell_type": "code",
   "execution_count": 15,
   "metadata": {},
   "outputs": [
    {
     "name": "stdout",
     "output_type": "stream",
     "text": [
      "Enter the number of rows:\n",
      "5\n",
      "        * \n",
      "      * * * \n",
      "    * * * * * \n",
      "  * * * * * * * \n",
      "* * * * * * * * * \n"
     ]
    }
   ],
   "source": [
    "#Draw a pattern of stars\n",
    "l=int(input(\"Enter the number of rows:\\n\"))\n",
    "k=0\n",
    "for i in range(l,0,-1):\n",
    "    for j in range(i-1,0,-1):\n",
    "        print(\" \",end=\" \")\n",
    "    for m in range(2*k+1):\n",
    "        print(\"*\",end=\" \")\n",
    "    k+=1\n",
    "    print()\n",
    "    "
   ]
  },
  {
   "cell_type": "code",
   "execution_count": 16,
   "metadata": {},
   "outputs": [],
   "source": [
    "#l=[[1,2,\"nhuhuh\"],[23,\"h\",\"h\",\"h\"],[\"jhihi\",34,45]]\n",
    "#Q)append 2 more list and one more complex number in this list between an existing list\n",
    "#Q)If your Nested list contain a string,find out the index in nested list and print it then remove the string\n",
    "#Q)you have to extract first element of each nested list"
   ]
  },
  {
   "cell_type": "code",
   "execution_count": 49,
   "metadata": {},
   "outputs": [
    {
     "data": {
      "text/plain": [
       "[[1, 2, 'nhuhuh'],\n",
       " ['ugu', 23, 34],\n",
       " [23, 'h', 'h', 'h'],\n",
       " [23, 443, 222],\n",
       " ['jhihi', 34, 45]]"
      ]
     },
     "execution_count": 49,
     "metadata": {},
     "output_type": "execute_result"
    }
   ],
   "source": [
    "#Q1\n",
    "l=[[1,2,\"nhuhuh\"],[23,\"h\",\"h\",\"h\"],[\"jhihi\",34,45]]\n",
    "l.insert(1,[\"ugu\",23,34])\n",
    "l.insert(3,[23,443,222])\n",
    "l"
   ]
  },
  {
   "cell_type": "code",
   "execution_count": 50,
   "metadata": {},
   "outputs": [
    {
     "name": "stdout",
     "output_type": "stream",
     "text": [
      "The index of element nhuhuh is 2\n",
      "The index of element ugu is 0\n",
      "The index of element h is 1\n",
      "The index of element h is 2\n",
      "The index of element h is 3\n",
      "The index of element jhihi is 0\n"
     ]
    }
   ],
   "source": [
    "for i in l:\n",
    "    if type(i)==list:\n",
    "        j=0\n",
    "        for k in i:\n",
    "            if type(k)==str:\n",
    "                print(\"The index of element {} is {}\".format(k,j))\n",
    "            j+=1\n",
    "\n",
    "            \n",
    "            \n",
    "    \n"
   ]
  },
  {
   "cell_type": "code",
   "execution_count": 52,
   "metadata": {},
   "outputs": [
    {
     "name": "stdout",
     "output_type": "stream",
     "text": [
      "[[1, 2], [23, 34], [23], [23, 443, 222], [34, 45]]\n",
      "1\n",
      "23\n",
      "23\n",
      "23\n",
      "34\n"
     ]
    }
   ],
   "source": [
    "for i in l:\n",
    "    if type(i)==list:\n",
    "        j=0\n",
    "        while j<len(i):\n",
    "            if type(i[j])==str:\n",
    "                del (i[j])\n",
    "            else:\n",
    "                j+=1\n",
    "print(l)\n",
    "for i in l:\n",
    "    if type(i)==list:\n",
    "        print(i[0])\n"
   ]
  },
  {
   "cell_type": "code",
   "execution_count": 53,
   "metadata": {},
   "outputs": [
    {
     "name": "stdout",
     "output_type": "stream",
     "text": [
      "provide input1\n",
      "provide input2\n",
      "provide input3\n",
      "provide input4\n",
      "provide input5\n"
     ]
    },
    {
     "data": {
      "text/plain": [
       "[1, 2, 3, 4, 5]"
      ]
     },
     "execution_count": 53,
     "metadata": {},
     "output_type": "execute_result"
    }
   ],
   "source": [
    "#Take the input from user in list\n",
    "l=[]\n",
    "for i in range(5):\n",
    "    l.append(int(input(\"provide input\")))\n",
    "l"
   ]
  },
  {
   "cell_type": "code",
   "execution_count": 55,
   "metadata": {},
   "outputs": [
    {
     "name": "stdout",
     "output_type": "stream",
     "text": [
      "120\n"
     ]
    }
   ],
   "source": [
    "#WAP to find the factorial of a number\n",
    "def factorial(n):\n",
    "    if n==0:\n",
    "        return 1\n",
    "    else:\n",
    "        return n*factorial(n-1)\n",
    "x=factorial(5)\n",
    "print(x)"
   ]
  },
  {
   "cell_type": "code",
   "execution_count": 58,
   "metadata": {},
   "outputs": [
    {
     "name": "stdout",
     "output_type": "stream",
     "text": [
      "1\n",
      "2\n",
      "\n",
      "1\n",
      "2\n",
      "3\n",
      "\n"
     ]
    }
   ],
   "source": [
    "#Usage of variable number of arguments\n",
    "def fun(*args):\n",
    "    for i in args:\n",
    "        print(i)\n",
    "    print()\n",
    "fun(1,2)\n",
    "fun(1,2,3)"
   ]
  },
  {
   "cell_type": "code",
   "execution_count": 1,
   "metadata": {},
   "outputs": [
    {
     "name": "stdout",
     "output_type": "stream",
     "text": [
      "['rajesh', 'bugu', 'bhgu']\n"
     ]
    }
   ],
   "source": [
    "#Suppose you have different data types and you have to print the list in which word \"Rajesh\" is present\n",
    "def test16(**kwargs):\n",
    "    for i in kwargs.items():\n",
    "        if type(i[1])==list:\n",
    "            if \"rajesh\"in i[1]:\n",
    "                print(i[1])\n",
    "test16(a=3,b=\"bvygygy\",c=[\"vyhvy\",23,233],d=[\"rajesh\",\"bugu\",\"bhgu\"],e=4+3j)"
   ]
  },
  {
   "cell_type": "code",
   "execution_count": 2,
   "metadata": {},
   "outputs": [],
   "source": [
    "#1)Create a function to take any number of mixed data and try to create a list of separate date based on data type and return multiple result\n",
    "#2)Create a function which will be able to use *args and *kwargs and it will be able to do all the list value concatenation and\n",
    "#return a list."
   ]
  },
  {
   "cell_type": "code",
   "execution_count": 3,
   "metadata": {},
   "outputs": [
    {
     "name": "stdout",
     "output_type": "stream",
     "text": [
      "{<class 'int'>: [3], <class 'str'>: ['bvygygy'], <class 'list'>: [['vyhvy', 23, 233], ['buhu', 'nuhu', 'jhuh']], <class 'complex'>: [(4+3j), (3+4j)]}\n"
     ]
    }
   ],
   "source": [
    "def test17(**kwargs):\n",
    "    s={}\n",
    "    for i in kwargs.items():\n",
    "        if type(i[1]) not in s:\n",
    "            s[type(i[1])]=[]\n",
    "            s[type(i[1])]=[i[1]]\n",
    "        else:\n",
    "            s[type(i[1])].append(i[1])\n",
    "            \n",
    "            \n",
    "    print(s)\n",
    "            \n",
    "test17(a=3,b=\"bvygygy\",c=[\"vyhvy\",23,233],d=[\"buhu\",\"nuhu\",\"jhuh\"],e=4+3j,f=3+4j)\n",
    " "
   ]
  },
  {
   "cell_type": "code",
   "execution_count": 4,
   "metadata": {},
   "outputs": [],
   "source": [
    "def test14(*args,**kwargs):\n",
    "    l=[]\n",
    "    for i  in args:\n",
    "        if type(i)==list:\n",
    "            l=l+i\n",
    "    for i in kwargs.values():\n",
    "        if type(i)==list:\n",
    "            l=l+i\n",
    "    return l"
   ]
  },
  {
   "cell_type": "code",
   "execution_count": 5,
   "metadata": {},
   "outputs": [
    {
     "name": "stdout",
     "output_type": "stream",
     "text": [
      "[12, 2, 23, 233, 12, 2, 212]\n"
     ]
    }
   ],
   "source": [
    "r=test14(12,\"nuhu\",[12,2,23,233],a=2,b=4,d=[12,2,212])\n",
    "print(r)"
   ]
  },
  {
   "cell_type": "code",
   "execution_count": 1,
   "metadata": {},
   "outputs": [],
   "source": [
    "#1)Create a new directory\n",
    "#2)Create 10 text files and write some data in all text at a time\n",
    "#3)Read all the data from the directory/file,print in console\n",
    "#4)Hold all the data in a list\n",
    "#5)Write all the data in a new file from list\n",
    "#6)Keep only a new file in present directory and move the rest in new directory"
   ]
  },
  {
   "cell_type": "code",
   "execution_count": 27,
   "metadata": {},
   "outputs": [
    {
     "data": {
      "text/plain": [
       "'C:\\\\Users\\\\Yoga\\\\raje2'"
      ]
     },
     "execution_count": 27,
     "metadata": {},
     "output_type": "execute_result"
    }
   ],
   "source": [
    "pwd"
   ]
  },
  {
   "cell_type": "code",
   "execution_count": 3,
   "metadata": {},
   "outputs": [
    {
     "name": "stdout",
     "output_type": "stream",
     "text": [
      "Enter the folder nameras\n",
      "Hello how are you\n",
      "Hello how are you\n",
      "Hello how are you\n",
      "Hello how are you\n",
      "Hello how are you\n",
      "Hello how are you\n",
      "Hello how are you\n",
      "Hello how are you\n",
      "Hello how are you\n",
      "Hello how are you\n",
      "['Hello how are you', 'Hello how are you', 'Hello how are you', 'Hello how are you', 'Hello how are you', 'Hello how are you', 'Hello how are you', 'Hello how are you', 'Hello how are you', 'Hello how are you']\n"
     ]
    }
   ],
   "source": [
    "import os\n",
    "os.chdir('C:\\\\Users\\\\Yoga')\n",
    "a=input(\"Enter the folder name\")\n",
    "os.mkdir(a)\n",
    "os.chdir(os.getcwd()+\"\\\\\"+a)\n",
    "#Create 10 txt file and write some data in all text files at a time\n",
    "for i in range(10):\n",
    "    f=open(\"text\"+str(i)+\".txt\",\"w+\")\n",
    "    f.write(\"Hello how are you\")\n",
    "    f.close()\n",
    "#Read all the data from directory/file and print in console\n",
    "for i in os.listdir():\n",
    "    f=open(i,\"r+\")\n",
    "    print(f.read())\n",
    "#4)Hold all the data in a list\n",
    "l=[]\n",
    "for i in os.listdir():\n",
    "    f=open(i,\"r+\")\n",
    "    l.append(f.read())\n",
    "    f.close()\n",
    "print(l)\n",
    "#5)Keep all the data in a new file from list\n",
    "f2=open(\"text10.txt\",\"w+\")\n",
    "for i in l:\n",
    "    f2.write(i)\n",
    "    f2.write(\"\\n\")\n",
    "#6)Keep only a new file in present directory and move the rest in new directory\n",
    "import shutil\n",
    "for i in range(10):\n",
    "    shutil.move(r'C:\\\\Users\\\\Yoga\\\\'+a+'\\\\text'+str(i)+'.txt',r'C:\\Users\\Yoga\\Desktop\\Source C')"
   ]
  },
  {
   "cell_type": "code",
   "execution_count": 1,
   "metadata": {},
   "outputs": [],
   "source": [
    "#Create test1 directory. Inside test directory create test directory and create 3 modules. create a ipynb file inside test\n",
    "#Then inside test1 directory create ipynb file and import all the 3 modules"
   ]
  },
  {
   "cell_type": "code",
   "execution_count": 5,
   "metadata": {},
   "outputs": [],
   "source": [
    "import os\n",
    "os.chdir(\"C:\\\\Users\\\\Yoga\")"
   ]
  },
  {
   "cell_type": "code",
   "execution_count": 6,
   "metadata": {},
   "outputs": [],
   "source": [
    "os.mkdir(\"raje1\")"
   ]
  },
  {
   "cell_type": "code",
   "execution_count": 7,
   "metadata": {},
   "outputs": [],
   "source": [
    "os.chdir(\"raje1\")\n",
    "os.mkdir(\"raje2\")"
   ]
  },
  {
   "cell_type": "code",
   "execution_count": 8,
   "metadata": {},
   "outputs": [],
   "source": [
    "#Kindly refer to raje1 folder in \"C:\\\\Users\\\\Yoga\" path"
   ]
  },
  {
   "cell_type": "code",
   "execution_count": 1,
   "metadata": {},
   "outputs": [],
   "source": [
    "import os\n",
    "os.chdir(\"C:\\\\Users\\\\Yoga\")"
   ]
  },
  {
   "cell_type": "code",
   "execution_count": null,
   "metadata": {},
   "outputs": [],
   "source": []
  }
 ],
 "metadata": {
  "kernelspec": {
   "display_name": "Python 3",
   "language": "python",
   "name": "python3"
  },
  "language_info": {
   "codemirror_mode": {
    "name": "ipython",
    "version": 3
   },
   "file_extension": ".py",
   "mimetype": "text/x-python",
   "name": "python",
   "nbconvert_exporter": "python",
   "pygments_lexer": "ipython3",
   "version": "3.7.6"
  }
 },
 "nbformat": 4,
 "nbformat_minor": 4
}
