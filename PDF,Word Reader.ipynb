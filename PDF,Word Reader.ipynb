{
 "cells": [
  {
   "cell_type": "code",
   "execution_count": 1,
   "metadata": {},
   "outputs": [
    {
     "name": "stdout",
     "output_type": "stream",
     "text": [
      "Collecting python-docx\n",
      "  Using cached python-docx-0.8.11.tar.gz (5.6 MB)\n",
      "Requirement already satisfied: lxml>=2.3.2 in c:\\users\\yoga\\anaconda3\\lib\\site-packages (from python-docx) (4.5.0)\n",
      "Building wheels for collected packages: python-docx\n",
      "  Building wheel for python-docx (setup.py): started\n",
      "  Building wheel for python-docx (setup.py): finished with status 'done'\n",
      "  Created wheel for python-docx: filename=python_docx-0.8.11-py3-none-any.whl size=184606 sha256=e4a27c7dd9caf01f0b1e0a5c07af0c037e2e1c1853145b434ab1ae9a5d1b3d6f\n",
      "  Stored in directory: c:\\users\\yoga\\appdata\\local\\pip\\cache\\wheels\\f6\\6f\\b9\\d798122a8b55b74ad30b5f52b01482169b445fbb84a11797a6\n",
      "Successfully built python-docx\n",
      "Installing collected packages: python-docx\n",
      "Successfully installed python-docx-0.8.11\n"
     ]
    }
   ],
   "source": [
    "!pip install python-docx"
   ]
  },
  {
   "cell_type": "code",
   "execution_count": 2,
   "metadata": {},
   "outputs": [],
   "source": [
    "from docx import Document"
   ]
  },
  {
   "cell_type": "code",
   "execution_count": 4,
   "metadata": {},
   "outputs": [],
   "source": [
    "f1=Document(r'C:\\Users\\Yoga\\Desktop\\New folder\\Raj2.docx')"
   ]
  },
  {
   "cell_type": "code",
   "execution_count": 5,
   "metadata": {},
   "outputs": [
    {
     "data": {
      "text/plain": [
       "docx.document.Document"
      ]
     },
     "execution_count": 5,
     "metadata": {},
     "output_type": "execute_result"
    }
   ],
   "source": [
    "type(f1)"
   ]
  },
  {
   "cell_type": "code",
   "execution_count": 6,
   "metadata": {},
   "outputs": [
    {
     "data": {
      "text/plain": [
       "[<docx.text.paragraph.Paragraph at 0x21856d112c8>,\n",
       " <docx.text.paragraph.Paragraph at 0x21856d11448>,\n",
       " <docx.text.paragraph.Paragraph at 0x21856d113c8>,\n",
       " <docx.text.paragraph.Paragraph at 0x21856d115c8>,\n",
       " <docx.text.paragraph.Paragraph at 0x21856d11548>,\n",
       " <docx.text.paragraph.Paragraph at 0x21856d11208>,\n",
       " <docx.text.paragraph.Paragraph at 0x21856d11848>,\n",
       " <docx.text.paragraph.Paragraph at 0x21856d117c8>,\n",
       " <docx.text.paragraph.Paragraph at 0x21856d11988>,\n",
       " <docx.text.paragraph.Paragraph at 0x21856d116c8>,\n",
       " <docx.text.paragraph.Paragraph at 0x21856d11688>,\n",
       " <docx.text.paragraph.Paragraph at 0x21856d11b08>,\n",
       " <docx.text.paragraph.Paragraph at 0x21856d11a48>]"
      ]
     },
     "execution_count": 6,
     "metadata": {},
     "output_type": "execute_result"
    }
   ],
   "source": [
    "f1.paragraphs"
   ]
  },
  {
   "cell_type": "code",
   "execution_count": 7,
   "metadata": {},
   "outputs": [
    {
     "data": {
      "text/plain": [
       "list"
      ]
     },
     "execution_count": 7,
     "metadata": {},
     "output_type": "execute_result"
    }
   ],
   "source": [
    "type(f1.paragraphs)"
   ]
  },
  {
   "cell_type": "code",
   "execution_count": 16,
   "metadata": {},
   "outputs": [
    {
     "data": {
      "text/plain": [
       "13"
      ]
     },
     "execution_count": 16,
     "metadata": {},
     "output_type": "execute_result"
    }
   ],
   "source": [
    "len(f1.paragraphs)"
   ]
  },
  {
   "cell_type": "code",
   "execution_count": 8,
   "metadata": {},
   "outputs": [
    {
     "data": {
      "text/plain": [
       "<docx.text.paragraph.Paragraph at 0x21856d4ae48>"
      ]
     },
     "execution_count": 8,
     "metadata": {},
     "output_type": "execute_result"
    }
   ],
   "source": [
    "f1.paragraphs[0]"
   ]
  },
  {
   "cell_type": "code",
   "execution_count": 9,
   "metadata": {},
   "outputs": [
    {
     "data": {
      "text/plain": [
       "'Interoffice Memo'"
      ]
     },
     "execution_count": 9,
     "metadata": {},
     "output_type": "execute_result"
    }
   ],
   "source": [
    "f1.paragraphs[0].text"
   ]
  },
  {
   "cell_type": "code",
   "execution_count": 11,
   "metadata": {},
   "outputs": [
    {
     "data": {
      "text/plain": [
       "'Date:\\t3/7/2003'"
      ]
     },
     "execution_count": 11,
     "metadata": {},
     "output_type": "execute_result"
    }
   ],
   "source": [
    "f1.paragraphs[1].text"
   ]
  },
  {
   "cell_type": "code",
   "execution_count": 13,
   "metadata": {},
   "outputs": [
    {
     "data": {
      "text/plain": [
       "'After speaking with Sean Trask at EMSA on March 6, 2003 I have clarified Medical Director Requirements 100039 under the California Code of Regulations Title 22 Article 1.  The code of regulations became effective February 2003 that stated all training providers have a licensed physician overseeing the training program.  This was developed to streamline the medical direction process and alleviate the end user from having to find personal medical direction to use an AED.  '"
      ]
     },
     "execution_count": 13,
     "metadata": {},
     "output_type": "execute_result"
    }
   ],
   "source": [
    "f1.paragraphs[7].text"
   ]
  },
  {
   "cell_type": "code",
   "execution_count": 17,
   "metadata": {},
   "outputs": [
    {
     "name": "stdout",
     "output_type": "stream",
     "text": [
      "\n",
      " paragraph 1 is\n",
      "Interoffice Memo\n",
      "\n",
      " paragraph 2 is\n",
      "Date:\t3/7/2003\n",
      "\n",
      " paragraph 3 is\n",
      "To:\tHS Specialists\t\n",
      "\n",
      " paragraph 4 is\n",
      "Cc:\tMike SteinKraus\n",
      "\n",
      " paragraph 5 is\n",
      "From:\tDebbie Leahy-Graves\n",
      "\n",
      " paragraph 6 is\n",
      "RE:\tTitle 22 Regulations - AED\n",
      "\n",
      " paragraph 7 is\n",
      "Priority:\t[Urgent]\n",
      "\n",
      " paragraph 8 is\n",
      "After speaking with Sean Trask at EMSA on March 6, 2003 I have clarified Medical Director Requirements 100039 under the California Code of Regulations Title 22 Article 1.  The code of regulations became effective February 2003 that stated all training providers have a licensed physician overseeing the training program.  This was developed to streamline the medical direction process and alleviate the end user from having to find personal medical direction to use an AED.  \n",
      "\n",
      " paragraph 9 is\n",
      "While these regulations where being developed and finalized the Governor signed AB2041 which completely eliminates the need for medical authorization for using an AED.  AB2041 went into effect January 1, 2003, which completely voids the one provision 100039 Medical Director Requirements under the Title 22 Regulations. \n",
      "\n",
      " paragraph 10 is\n",
      "Poor timing and lack of communication caused the regulations to be written as is, although this one provision is null and void.  Due to a lack of resources at EMSA they do not have a timeframe of when they can formally make the appropriate corrections to the regulations.  What we do know is that provision 100039 is no longer valid.  Medical Direction is still required for delivery of an AED unit and for an AED program.  If you have any questions please contact me at 530 759-9063.   \n"
     ]
    }
   ],
   "source": [
    "index=0;\n",
    "for para in f1.paragraphs:\n",
    "    index+=1\n",
    "    if len(para.text)>0:\n",
    "        print(\"\\n paragraph\",index,\"is\")\n",
    "        print(para.text)"
   ]
  },
  {
   "cell_type": "code",
   "execution_count": 18,
   "metadata": {},
   "outputs": [],
   "source": [
    "#Create a function that gets the text from a document"
   ]
  },
  {
   "cell_type": "code",
   "execution_count": 19,
   "metadata": {},
   "outputs": [],
   "source": [
    "def fun1(name1):\n",
    "    docx_dict={}\n",
    "    f1=Document(name1)\n",
    "    index=0\n",
    "    for para in f1.paragraphs:\n",
    "        index+=1\n",
    "        if len(para.text)>0:\n",
    "            docx_dict[index]=para.text\n",
    "    return docx_dict"
   ]
  },
  {
   "cell_type": "code",
   "execution_count": 21,
   "metadata": {},
   "outputs": [],
   "source": [
    "r=fun1(r'C:\\Users\\Yoga\\Desktop\\New folder\\Raj2.docx')"
   ]
  },
  {
   "cell_type": "code",
   "execution_count": 22,
   "metadata": {},
   "outputs": [
    {
     "data": {
      "text/plain": [
       "{1: 'Interoffice Memo',\n",
       " 2: 'Date:\\t3/7/2003',\n",
       " 3: 'To:\\tHS Specialists\\t',\n",
       " 4: 'Cc:\\tMike SteinKraus',\n",
       " 5: 'From:\\tDebbie Leahy-Graves',\n",
       " 6: 'RE:\\tTitle 22 Regulations - AED',\n",
       " 7: 'Priority:\\t[Urgent]',\n",
       " 8: 'After speaking with Sean Trask at EMSA on March 6, 2003 I have clarified Medical Director Requirements 100039 under the California Code of Regulations Title 22 Article 1.  The code of regulations became effective February 2003 that stated all training providers have a licensed physician overseeing the training program.  This was developed to streamline the medical direction process and alleviate the end user from having to find personal medical direction to use an AED.  ',\n",
       " 9: 'While these regulations where being developed and finalized the Governor signed AB2041 which completely eliminates the need for medical authorization for using an AED.  AB2041 went into effect January 1, 2003, which completely voids the one provision 100039 Medical Director Requirements under the Title 22 Regulations. ',\n",
       " 10: 'Poor timing and lack of communication caused the regulations to be written as is, although this one provision is null and void.  Due to a lack of resources at EMSA they do not have a timeframe of when they can formally make the appropriate corrections to the regulations.  What we do know is that provision 100039 is no longer valid.  Medical Direction is still required for delivery of an AED unit and for an AED program.  If you have any questions please contact me at 530 759-9063.   '}"
      ]
     },
     "execution_count": 22,
     "metadata": {},
     "output_type": "execute_result"
    }
   ],
   "source": [
    "r"
   ]
  },
  {
   "cell_type": "code",
   "execution_count": 23,
   "metadata": {},
   "outputs": [],
   "source": [
    "#Load text from multiple docx files"
   ]
  },
  {
   "cell_type": "code",
   "execution_count": 3,
   "metadata": {},
   "outputs": [],
   "source": [
    "from docx import Document\n",
    "import os"
   ]
  },
  {
   "cell_type": "code",
   "execution_count": 3,
   "metadata": {},
   "outputs": [],
   "source": [
    "def fun2(name1):\n",
    "    docx_dict={}\n",
    "    f1=Document(name1)\n",
    "    index=0\n",
    "    for para in f1.paragraphs:\n",
    "        index+=1\n",
    "        if len(para.text)>0:\n",
    "            docx_dict[index]=para.text\n",
    "    return docx_dict"
   ]
  },
  {
   "cell_type": "code",
   "execution_count": 77,
   "metadata": {},
   "outputs": [
    {
     "data": {
      "text/plain": [
       "{1: 'Interoffice Memo',\n",
       " 2: 'Date:\\t3/7/2003',\n",
       " 3: 'To:\\tHS Specialists\\t',\n",
       " 4: 'Cc:\\tMike SteinKraus',\n",
       " 5: 'From:\\tDebbie Leahy-Graves',\n",
       " 6: 'RE:\\tTitle 22 Regulations - AED',\n",
       " 7: 'Priority:\\t[Urgent]',\n",
       " 8: 'After speaking with Sean Trask at EMSA on March 6, 2003 I have clarified Medical Director Requirements 100039 under the California Code of Regulations Title 22 Article 1.  The code of regulations became effective February 2003 that stated all training providers have a licensed physician overseeing the training program.  This was developed to streamline the medical direction process and alleviate the end user from having to find personal medical direction to use an AED.  ',\n",
       " 9: 'While these regulations where being developed and finalized the Governor signed AB2041 which completely eliminates the need for medical authorization for using an AED.  AB2041 went into effect January 1, 2003, which completely voids the one provision 100039 Medical Director Requirements under the Title 22 Regulations. ',\n",
       " 10: 'Poor timing and lack of communication caused the regulations to be written as is, although this one provision is null and void.  Due to a lack of resources at EMSA they do not have a timeframe of when they can formally make the appropriate corrections to the regulations.  What we do know is that provision 100039 is no longer valid.  Medical Direction is still required for delivery of an AED unit and for an AED program.  If you have any questions please contact me at 530 759-9063.   '}"
      ]
     },
     "execution_count": 77,
     "metadata": {},
     "output_type": "execute_result"
    }
   ],
   "source": [
    "fun2(\"WordPDF\\Fol1\\Raj2.docx\")"
   ]
  },
  {
   "cell_type": "code",
   "execution_count": 27,
   "metadata": {},
   "outputs": [],
   "source": [
    "os.chdir(r'C:\\Users\\Yoga\\Desktop')"
   ]
  },
  {
   "cell_type": "code",
   "execution_count": 28,
   "metadata": {},
   "outputs": [
    {
     "data": {
      "text/plain": [
       "['Raj2.docx', 'Raj3.docx', 'Rajesh_XIMB.pdf']"
      ]
     },
     "execution_count": 28,
     "metadata": {},
     "output_type": "execute_result"
    }
   ],
   "source": [
    "os.listdir(\"WordPDF\")"
   ]
  },
  {
   "cell_type": "code",
   "execution_count": 32,
   "metadata": {},
   "outputs": [],
   "source": [
    "directory=\"WordPDF\"\n",
    "docx_content={}\n",
    "for filename in os.listdir(directory):\n",
    "    if filename.endswith (\".docx\") or filename.endswith (\".doc\"):\n",
    "        path_to_docx=os.path.join(directory,filename)\n",
    "        docx_content[path_to_docx]=fun2(path_to_docx)"
   ]
  },
  {
   "cell_type": "code",
   "execution_count": 33,
   "metadata": {},
   "outputs": [
    {
     "data": {
      "text/plain": [
       "{'WordPDF\\\\Raj2.docx': {1: 'Interoffice Memo',\n",
       "  2: 'Date:\\t3/7/2003',\n",
       "  3: 'To:\\tHS Specialists\\t',\n",
       "  4: 'Cc:\\tMike SteinKraus',\n",
       "  5: 'From:\\tDebbie Leahy-Graves',\n",
       "  6: 'RE:\\tTitle 22 Regulations - AED',\n",
       "  7: 'Priority:\\t[Urgent]',\n",
       "  8: 'After speaking with Sean Trask at EMSA on March 6, 2003 I have clarified Medical Director Requirements 100039 under the California Code of Regulations Title 22 Article 1.  The code of regulations became effective February 2003 that stated all training providers have a licensed physician overseeing the training program.  This was developed to streamline the medical direction process and alleviate the end user from having to find personal medical direction to use an AED.  ',\n",
       "  9: 'While these regulations where being developed and finalized the Governor signed AB2041 which completely eliminates the need for medical authorization for using an AED.  AB2041 went into effect January 1, 2003, which completely voids the one provision 100039 Medical Director Requirements under the Title 22 Regulations. ',\n",
       "  10: 'Poor timing and lack of communication caused the regulations to be written as is, although this one provision is null and void.  Due to a lack of resources at EMSA they do not have a timeframe of when they can formally make the appropriate corrections to the regulations.  What we do know is that provision 100039 is no longer valid.  Medical Direction is still required for delivery of an AED unit and for an AED program.  If you have any questions please contact me at 530 759-9063.   '},\n",
       " 'WordPDF\\\\Raj3.docx': {1: 'Bid manager',\n",
       "  2: 'Bid managers are responsible for the proposal of bids to existing or prospective clients for projects. A bid manager will ensure the smooth running of the bid for a project within the correct time and financial parameters, and manage the relationship with the client. Bid managers may work in conjunction with a bid director and often with specialists in the\\xa0\\xa0and\\xa0\\xa0industries to create and manage the bid for a project.',\n",
       "  3: \"A bid manager's role varies based on the industry and how the individual company has structured their management of sales cycle. A company that depends on short (quick win) sales cycle often relies on proposal managers, where as organisations that depends on longer term, complex sales processes depends on bid managers. In addition to managing bids, bid managers work closely with company board directors and C-level management to set the strategic direction of the business by providing insight into\\xa0\\xa0through direct exposure to critical feedback from failed bids and the evolving needs of clients.\",\n",
       "  4: \"Bid managers' salaries differ across the construction industry depending on the company and, moreover, the specific project. According to a survey conducted in 2010 the average salary of a bid manager in the UK construction industry, including a bonus, is £120,250 per annum. Certain projects are more financially beneficial depending on the nature of the project or sector. For example, bid managers working on\\xa0\\xa0earn an average salary of £80,000, whilst\\xa0\\xa0projects make a lower figure of £40,000. However, bonuses can be accumulated at a rate of at least 20–60% of the salary. For example, a salary of £50,000 can be given and depending on performance, a 60% bonus will be given on top of the salary, bringing the total earnings to £70,000 or more.\",\n",
       "  5: \"Bid managers play an important role in\\xa0, where they produce and manage bids for companies structured to take on outsourcing projects from the government and industries. These bids run anywhere between three and 18 months (on average about six months), involve substantial bid budgets (as much as $5 million for very large bids over $100 million in value) and large teams of between 10 and 100 people. The bid manager ensures that all customer-specified milestones are met and all deliverables of the bid are produced as specified. A bid manager's performance is normally evaluated based on the percentage of contracts he or she wins. Bid managers typically work with teams collected together from line functions for the temporary duration of the bid project, and hence need to have strong leadership skills to manage bids successfully. Good bid managers are in strong demand in the outsourcing industry.\"}}"
      ]
     },
     "execution_count": 33,
     "metadata": {},
     "output_type": "execute_result"
    }
   ],
   "source": [
    "docx_content"
   ]
  },
  {
   "cell_type": "code",
   "execution_count": 34,
   "metadata": {},
   "outputs": [
    {
     "data": {
      "text/plain": [
       "dict_keys(['WordPDF\\\\Raj2.docx', 'WordPDF\\\\Raj3.docx'])"
      ]
     },
     "execution_count": 34,
     "metadata": {},
     "output_type": "execute_result"
    }
   ],
   "source": [
    "docx_content.keys()"
   ]
  },
  {
   "cell_type": "code",
   "execution_count": 54,
   "metadata": {},
   "outputs": [],
   "source": [
    "# Reading PDF Files"
   ]
  },
  {
   "cell_type": "code",
   "execution_count": 35,
   "metadata": {},
   "outputs": [
    {
     "name": "stdout",
     "output_type": "stream",
     "text": [
      "Collecting PyPDF2\n",
      "  Downloading PyPDF2-1.26.0.tar.gz (77 kB)\n",
      "Building wheels for collected packages: PyPDF2\n",
      "  Building wheel for PyPDF2 (setup.py): started\n",
      "  Building wheel for PyPDF2 (setup.py): finished with status 'done'\n",
      "  Created wheel for PyPDF2: filename=PyPDF2-1.26.0-py3-none-any.whl size=61087 sha256=f75e65bc2336d963a7bcf7b8732e6181e63a278ad2fe2a69fa5723665fd392ae\n",
      "  Stored in directory: c:\\users\\yoga\\appdata\\local\\pip\\cache\\wheels\\80\\1a\\24\\648467ade3a77ed20f35cfd2badd32134e96dd25ca811e64b3\n",
      "Successfully built PyPDF2\n",
      "Installing collected packages: PyPDF2\n",
      "Successfully installed PyPDF2-1.26.0\n"
     ]
    }
   ],
   "source": [
    "!pip install PyPDF2"
   ]
  },
  {
   "cell_type": "code",
   "execution_count": 5,
   "metadata": {},
   "outputs": [],
   "source": [
    "import PyPDF2"
   ]
  },
  {
   "cell_type": "code",
   "execution_count": 90,
   "metadata": {},
   "outputs": [],
   "source": [
    "f=open(r'C:\\Users\\Yoga\\Desktop\\WordPDF\\cvcx.pdf',\"rb+\")"
   ]
  },
  {
   "cell_type": "code",
   "execution_count": 91,
   "metadata": {},
   "outputs": [],
   "source": [
    "f1=PyPDF2.PdfFileReader(f)"
   ]
  },
  {
   "cell_type": "code",
   "execution_count": 92,
   "metadata": {},
   "outputs": [
    {
     "name": "stdout",
     "output_type": "stream",
     "text": [
      "6\n"
     ]
    }
   ],
   "source": [
    "print(f1.numPages)"
   ]
  },
  {
   "cell_type": "code",
   "execution_count": 97,
   "metadata": {},
   "outputs": [],
   "source": [
    "f2=f1.getPage(0)"
   ]
  },
  {
   "cell_type": "code",
   "execution_count": 53,
   "metadata": {},
   "outputs": [
    {
     "name": "stdout",
     "output_type": "stream",
     "text": [
      " \n",
      "Mindfire Solutions\n",
      " \n",
      "Case Study\n",
      " \n",
      "info@mindfiresolutions.com\n",
      " \n",
      " \n",
      " \n",
      "www.mindfiresolutions.com\n",
      " \n",
      " \n",
      "\n",
      "\n",
      "\n",
      "\n",
      "\n",
      "\n",
      "\n",
      "\n",
      " \n",
      "Executive Summary:\n",
      " \n",
      "A 100% open rate, \n",
      "98% read rate\n",
      " \n",
      "and 90% response rate\n",
      " \n",
      "is an enviable figure where digital \n",
      "\n",
      "messages. The proliferation of mobile phones all over the world (it is already 100% in the USA) has led to \n",
      "many brands opt\n",
      "ing to include text messaging into their digital marketing strategy. \n",
      "Y\n",
      "et another statistics \n",
      "states\n",
      " \n",
      "that \n",
      "43% of mobile advertisements prompted brand recall. These statistics confirm the fact that \n",
      "messages delivered via mobile text advertising are more perso\n",
      "nal and timelier than any other \n",
      "advertising medium. The reach of mobile text advertising is even more owing to the ubiquity of mobile \n",
      "phones as a constant companion in our lives.\n",
      " \n",
      "\n",
      "plan. Developing a SaaS applicati\n",
      "on on text \n",
      "messaging solutions that would help various \n",
      "advertisers effectively reach their target \n",
      "audience with personal messages in a \n",
      "timely manner was the top most priority for \n",
      "them. Additionally this would also help \n",
      "build a consumer database which could\n",
      " \n",
      "be \n",
      "analyzed further and contacted accordingly. \n",
      "As a software services provider they wanted \n",
      "to leverage on the software technologies \n",
      "readily available to communicate better \n",
      "with the target market.\n",
      " \n",
      "Apparently when the client contacted Mindfire, they had alr\n",
      "eady been through a negative experience \n",
      "with the previous software vendor. However, the partnership with Mindfire proved to be a fruitful one \n",
      "and now we are the primary software services provider for the client. They have also expressed interest \n",
      "in Mindfir\n",
      "\n",
      "aggressively market it to other domains.\n",
      " \n",
      "About the Client:\n",
      " \n",
      "Client:\n",
      " \n",
      "Mobile Messaging Services Provider\n",
      " \n",
      "Industry:\n",
      " \n",
      "Marketing and Advertising\n",
      " \n",
      "Location:\n",
      " \n",
      "USA\n",
      " \n",
      "Technologies Us\n",
      "ed: \n",
      " \n",
      "ColdFusion10, SQL Server 2008\n",
      ", Bootstrap, ChartJS\n",
      ", BaseCamp, jUnit\n",
      " \n",
      " \n",
      "\n"
     ]
    }
   ],
   "source": [
    "f3=f2.extractText()\n",
    "print(f3)"
   ]
  },
  {
   "cell_type": "code",
   "execution_count": 56,
   "metadata": {},
   "outputs": [],
   "source": [
    "f.close()"
   ]
  },
  {
   "cell_type": "code",
   "execution_count": 2,
   "metadata": {},
   "outputs": [],
   "source": [
    "def fun3(file):\n",
    "    f2={}\n",
    "    f=open(file,\"rb+\")\n",
    "    f1=PyPDF2.PdfFileReader(f)\n",
    "    for i in range(f1.numPages):\n",
    "        f2[i+1]=f1.getPage(i).extractText()\n",
    "    return f2"
   ]
  },
  {
   "cell_type": "code",
   "execution_count": 100,
   "metadata": {},
   "outputs": [
    {
     "data": {
      "text/plain": [
       "{1: ' \\nMindfire Solutions\\n \\nCase Study\\n \\ninfo@mindfiresolutions.com\\n \\n \\n \\nwww.mindfiresolutions.com\\n \\n \\n\\n\\n\\n\\n\\n\\n\\n\\n \\nExecutive Summary:\\n \\nA 100% open rate, \\n98% read rate\\n \\nand 90% response rate\\n \\nis an enviable figure where digital \\n\\nmessages. The proliferation of mobile phones all over the world (it is already 100% in the USA) has led to \\nmany brands opt\\ning to include text messaging into their digital marketing strategy. \\nY\\net another statistics \\nstates\\n \\nthat \\n43% of mobile advertisements prompted brand recall. These statistics confirm the fact that \\nmessages delivered via mobile text advertising are more perso\\nnal and timelier than any other \\nadvertising medium. The reach of mobile text advertising is even more owing to the ubiquity of mobile \\nphones as a constant companion in our lives.\\n \\n\\nplan. Developing a SaaS applicati\\non on text \\nmessaging solutions that would help various \\nadvertisers effectively reach their target \\naudience with personal messages in a \\ntimely manner was the top most priority for \\nthem. Additionally this would also help \\nbuild a consumer database which could\\n \\nbe \\nanalyzed further and contacted accordingly. \\nAs a software services provider they wanted \\nto leverage on the software technologies \\nreadily available to communicate better \\nwith the target market.\\n \\nApparently when the client contacted Mindfire, they had alr\\neady been through a negative experience \\nwith the previous software vendor. However, the partnership with Mindfire proved to be a fruitful one \\nand now we are the primary software services provider for the client. They have also expressed interest \\nin Mindfir\\n\\naggressively market it to other domains.\\n \\nAbout the Client:\\n \\nClient:\\n \\nMobile Messaging Services Provider\\n \\nIndustry:\\n \\nMarketing and Advertising\\n \\nLocation:\\n \\nUSA\\n \\nTechnologies Us\\ned: \\n \\nColdFusion10, SQL Server 2008\\n, Bootstrap, ChartJS\\n, BaseCamp, jUnit\\n \\n \\n',\n",
       " 2: ' \\nMindfire Solutions\\n \\nCase Study\\n \\ninfo@mindfiresolutions.com\\n \\n \\n \\nwww.mindfiresolutions.com\\n \\n \\nBusiness Situation:\\n \\nOur client wanted to stay competitive in the Text Messag\\ning\\n \\nServices \\nIndustry that has a significant \\nshare in the Marketing and Advertising campaigns in USA and elsewhere in the world. However, when \\nthey approached Mindfire Solutions their Code was not in the best condition and they had to restart the \\nservers on a daily bas\\nis and there were times when the messaging broadcast would fail randomly. \\n \\nIn this scenario, Mindfire had its task cut and proceeded with a modular approach giving more \\nweightage to the more pressing issues first.\\n \\nThe Mindfire Solution:\\n \\nThe primary custome\\nrs of our client were\\n \\nAdvertiser\\ns \\nwho\\n \\ncan get distributed Shortcode or they can \\nown a Shortcode. \\nThe Advertiser can set up campaigns for Restaurants, Comedy Clubs, College, Real \\nEstate etc. They \\ncan\\n \\nalso\\n \\ns\\net Zip Code location processing for a \\nscheduled \\nBroadcast. The main purpose \\nof\\n \\nthe \\nCampaigns w\\nas to give r\\neal \\ntime n\\notifications to\\n \\na\\n \\nuser \\nabout an\\n \\noffer going on,\\n \\nCoupons & \\ninformation about \\nthe \\nAdvertiser\\n\\ns shop location\\n \\nprimarily\\n \\nthrough Broadcasts or through Response \\nMessages. \\nThe Advertisers also \\ng\\net\\n \\naccess to the subscribers\\n\\n \\nName, DOB (date of birth), e\\nmail, \\nZip etc. \\nwhich helps them to provide the\\n \\nbest services. \\n \\nAt Mindfire Solution\\ns\\n, we analyze\\nd the code base which had flaws and did c\\node optimization in every \\ncorner of \\nthe application\\n. \\nOur deve\\nlopers w\\nrote \\napproximately\\n \\n75 stored procedure\\ns\\n \\nwhich had a \\ncapacity to give 5 to 7 resultset\\ns. \\nWe used Bootstrap, ChartJS for Admin dashboard without \\ndependencies on the Base CSS. Most of the queries were replaced by the stored procedures so that \\nDatabase\\n \\nhit was managed.\\n \\nThe performance of the a\\npplication \\nimproved considerably without having \\nthe c\\nlient \\nto\\n \\nrestart or \\nsuffer from a system hanging up while broadcasting\\n. \\n \\nWe faced a challenge for new API integration without support from Service providers. Our\\n \\ndevelope\\nrs \\nworked on\\n \\na new \\nAPI \\nfor \\nthe client which in turn enabled the A\\ndvertiser to send test to N numbers, N \\ndifferent messages in one to one \\nrelation\\n.\\n \\nThis API was set up using CF Scheduled services and Caching \\nquery result. The Stats, Growth, Summary\\n \\nReports, Messages Logs and Advertiser Dashboard where set \\nup so Advertisers and Our Client have a clear picture on Application and Campaigns. Surprise \\n\\napplication, whic\\nh went on for several months with success. \\n \\nFetching DOB data collection from Subscriber for giving special offers on birthdays was set up, by using a \\nlist of Regular Expressions to accept any format. The data was achieved with 80% success.  A robust \\nstruc\\nture was established for setting up\\n \\nthe\\n \\ncampaign\\ns\\n \\nso that the Advertiser can limit the number of \\noutgoing messages, \\ncollect the d\\nata \\nand\\n \\ns\\nend \\ne\\nmails \\nin\\n \\nreal time. New Mail Chimp,\\n \\nCustom JSON API \\nwas \\nset for sending real time data to Advertisers. \\nOur developers also converted HTTP to SMPP protocol \\nbecause the \\nproviders had \\na \\nlot to change on their side. \\nThe application s\\ntopped after successful \\ntransfer \\nof the \\nShortcodes. \\nWe also a\\npplied every New CTIA changes for sending of Messages to \\nSubscribers.\\n \\nThe application had a unique pass\\n-\\nthru facility to the Advertisers which notifies them as soon as they get \\nSubscriptions or any information for Campaigns. The various tracking reports were installed to get \\nthe \\nSubscriber\\ns\\n \\nList, Growth of Subscribers, Stat\\ns given by subscriber and Summary Report for getting \\n',\n",
       " 3: ' \\nMindfire Solutions\\n \\nCase Study\\n \\ninfo@mindfiresolutions.com\\n \\n \\n \\nwww.mindfiresolutions.com\\n \\n \\nresponse messages that went out from Application for Subscriber messages. The application also had \\nfew API Listeners open so that the Advertiser can send messages without logging in or can manage \\nbroadca\\nst at their end.\\n \\nBase camp was used for Bug tracking and jUnit tool was used by client end for \\ntesting.\\n \\nArchitecture Diagram:\\n \\n \\n \\n \\n \\n.\\n \\n \\n \\n \\n \\n \\n \\n \\n \\n \\n \\n \\n \\n \\n \\n \\n \\n \\n \\n \\nFig 1: The above figure shows the architecture diagram of the Text Messaging Solution \\n \\n',\n",
       " 4: ' \\nMindfire Solutions\\n \\nCase Study\\n \\ninfo@mindfiresolutions.com\\n \\n \\n \\nwww.mindfiresolutions.com\\n \\n \\nHow the System works?\\n \\n \\n \\n \\n \\n \\n \\n \\n \\n \\n \\n \\n \\n \\nThere were 3 processes which work\\ned\\n \\nbehind\\n \\nthe\\n \\napplication\\n:\\n \\n1.\\n \\nMO(Mobile Origination)\\n:\\n \\nH\\nere the Messages is received by  Subscribers. The message is\\n \\nprocessed \\nand marked valid or invalid\\n \\n2.\\n \\nMT(Mobile Termination)\\n:\\n \\nH\\nere the Message Response from Application to Subscribers and \\nBroadcast set by Advertisers were  handled.\\n \\n3.\\n \\nPass\\n \\nT\\nhru\\n:\\n \\nT\\nhere \\nwere \\nmany kinds of \\nP\\nass\\n \\nT\\nhru in \\nthe \\nApplication. These are used to \\nindicate the \\nAdvertisers in Real time about data received.\\n \\nScreenshots:\\n \\nFollowing are some of the \\nscreenshots of various sections of the application:\\n \\n \\n \\n \\n \\n \\n \\n \\n \\n \\nFig \\n2\\n: The above figure shows the \\nWorkFlow image\\n \\nof the Text Messaging Solution \\n \\nScreenshot 1: User Dashboard \\nsignifying the various metrics of the \\nsubscriber base\\n \\n',\n",
       " 5: ' \\nMindfire Solutions\\n \\nCase Study\\n \\ninfo@mindfiresolutions.com\\n \\n \\n \\nwww.mindfiresolutions.com\\n \\n \\n \\n \\n \\n \\n \\n \\n \\n \\n \\n \\n \\n \\n \\n \\n \\n \\n \\n \\n \\n \\n \\n \\n \\n \\n \\n \\nScreenshot 2\\n: \\nShort code database \\nfor a particular Advertiser\\n \\nScreenshot 3\\n: \\nMessage Log for the \\noutbound messages and their \\ncorresponding status.\\n \\nScreenshot 4\\n: \\nKeywords Database to \\nincrease effectiveness of the text \\nmessaging \\ncampaigns.\\n \\n',\n",
       " 6: ' \\nMindfire Solutions\\n \\nCase Study\\n \\ninfo@mindfiresolutions.com\\n \\n \\n \\nwww.mindfiresolutions.com\\n \\n \\nFuture Relationship:\\n \\nThis has been one of our long running projects and each year the client was satisfied with the work done \\nat Mindfire Solutions. They have \\nalso referred the services of Mindfire Solutions to their peers and that \\nhas bee\\nn a rewarding experience. Not only have we added more clients but we also get to work on \\nvarious platforms to meet the needs of the client and their customers. \\n \\nWe are also the primary software services provider to the client who is planning to white label\\n \\nthe \\nproduct as sell it to other organizations across industries.  \\n \\nDeveloper Speak:\\n \\n\\napplication. Needless to say, the learning curve never \\ndiminished. The challenges were a learning experience \\n\\n \\n             \\n        \\n  \\n-\\n \\nRamakrishna Panni\\n \\nFounded in 1999, Mindfire\\n \\nSolutions is an award\\n-\\nwinning provider of \\nsoftware development and testing services to the global market with \\n650+ talented software engineers at 3 centers in India. For its people \\nand its work, Mindfire has won coveted international awards such as \\nDeloit\\nte Technology Fast50 India Award 2013 and 2014, Dun & \\nBradstreet Fastest Growing SME 2013 Award, Red Herring Top 100 \\nAsia Award and Zinnov GSPR 2014. Mindfire has been recognized with \\nISO 9001:2008 and ISO 27001:2005 certification, is a continuous \\nmember o\\nf NASSCOM, and has established a strong track record of \\n2000+ projects successfully delivered for 500+ technology clients. \\n \\n© 201\\n5\\n \\nMindfire Solutions | \\nwww.mindfiresolutions.com\\n \\n \\n \\nNeed help to create \\na \\ntext \\nmessaging solution\\n? Reach out to \\nus here\\n:\\n \\nPhone:\\n \\n1\\n-\\n248\\n-\\n686\\n-\\n1424\\n \\nWeb: \\nwww.mindfiresolutions.com\\n \\n \\nEmail: \\nsales@mindfiresolutions.com\\n \\n \\n'}"
      ]
     },
     "execution_count": 100,
     "metadata": {},
     "output_type": "execute_result"
    }
   ],
   "source": [
    "fun3(r'C:\\Users\\Yoga\\Desktop\\WordPDF\\cvcx.pdf')"
   ]
  },
  {
   "cell_type": "code",
   "execution_count": 57,
   "metadata": {},
   "outputs": [],
   "source": [
    "#Common program for opening pdf or word"
   ]
  },
  {
   "cell_type": "code",
   "execution_count": 1,
   "metadata": {},
   "outputs": [
    {
     "data": {
      "text/plain": [
       "['cvcx.pdf', 'Fol1', 'Fol2']"
      ]
     },
     "execution_count": 1,
     "metadata": {},
     "output_type": "execute_result"
    }
   ],
   "source": [
    "from docx import Document\n",
    "from docx import Document\n",
    "import PyPDF2\n",
    "import os\n",
    "os.chdir(r'C:\\Users\\Yoga\\Desktop\\WordPDF')\n",
    "g1=os.listdir()\n",
    "g1"
   ]
  },
  {
   "cell_type": "code",
   "execution_count": null,
   "metadata": {},
   "outputs": [],
   "source": [
    "z=False\n",
    "a=input(\"Enter the value:\\n\")\n",
    "while not z:\n",
    "    for i in g1:\n",
    "         if i==a:\n",
    "            docx_content={}\n",
    "            for filename in os.listdir(i):\n",
    "                if filename.endswith(\".docx\") or filename.endswith(\".doc\"):\n",
    "                    path_to_docx=os.path.join(i,filename)\n",
    "                    docx_content[path_to_docx]=fun2(path_to_docx)\n",
    "                    print(docx_content)\n",
    "                    z=True\n",
    "                else:\n",
    "                    if filename.endswith(\".pdf\"):\n",
    "                        path_to_docx=os.path.join(i,filename)\n",
    "                        docx_content[path_to_docx]=fun3(path_to_docx)\n",
    "                        print(docx_content)\n",
    "                        z=True\n",
    "       \n",
    "    else:\n",
    "        a=input(\"Enter the correct value:\\n\")\n",
    "    \n",
    "  \n",
    "        \n",
    "    \n",
    "                    \n",
    "   \n",
    "   \n",
    "\n",
    "\n",
    "        \n",
    "                    \n",
    "                    \n",
    "            \n",
    "    \n",
    "           "
   ]
  },
  {
   "cell_type": "code",
   "execution_count": null,
   "metadata": {},
   "outputs": [],
   "source": []
  }
 ],
 "metadata": {
  "kernelspec": {
   "display_name": "Python 3",
   "language": "python",
   "name": "python3"
  },
  "language_info": {
   "codemirror_mode": {
    "name": "ipython",
    "version": 3
   },
   "file_extension": ".py",
   "mimetype": "text/x-python",
   "name": "python",
   "nbconvert_exporter": "python",
   "pygments_lexer": "ipython3",
   "version": "3.7.6"
  }
 },
 "nbformat": 4,
 "nbformat_minor": 4
}
